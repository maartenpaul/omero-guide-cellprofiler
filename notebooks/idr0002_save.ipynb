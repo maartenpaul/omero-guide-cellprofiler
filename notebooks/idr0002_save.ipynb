{
 "cells": [
  {
   "cell_type": "markdown",
   "metadata": {},
   "source": [
    "# Cell/particle Counting and scoring stained objects"
   ]
  },
  {
   "cell_type": "markdown",
   "metadata": {},
   "source": [
    "This notebook demonstrates how to process plates associated to the paper ['Integration of biological data by kernels on graph nodes allows prediction of new genes involved in mitotic chromosome condensation.'](http://dx.doi.org/10.1091/mbc.E13-04-0221) using [CellProfiler](http://cellprofiler.org/).\n",
    "We use the example pipeline [Cell/particle counting, and scoring the percentage of stained objects](http://cellprofiler.org/examples/#PercentPositive). This pipeline is for two-channel images. A plate associated to the paper has been imported into a read-write server so we can demonstrate how to save analytical results."
   ]
  },
  {
   "cell_type": "code",
   "execution_count": null,
   "metadata": {},
   "outputs": [],
   "source": [
    "# When running the notebook on M1,\n",
    "# you might have to run this cell after removing the comment\n",
    "#import os\n",
    "#os.environ[\"JAVA_HOME\"]=\"/full/path/to/conda_env\""
   ]
  },
  {
   "cell_type": "markdown",
   "metadata": {},
   "source": [
    "### Import Packages"
   ]
  },
  {
   "cell_type": "code",
   "execution_count": 1,
   "metadata": {},
   "outputs": [],
   "source": [
    "# %tb\n",
    "# Import Cell Profiler Dependencies\n",
    "import cellprofiler_core.preferences as cpprefs\n",
    "import cellprofiler_core.pipeline as cpp\n",
    "cpprefs.set_headless()\n",
    "\n",
    "# Inject Image module used to inject OMERO image planes into Cell Profiler Pipeline\n",
    "from cellprofiler_core.modules.injectimage import InjectImage\n",
    "\n",
    "# Import OMERO Python BlitzGateway\n",
    "from omero.gateway import BlitzGateway\n",
    "\n",
    "# Import Python System Packages\n",
    "import os\n",
    "import tempfile\n",
    "import pandas\n",
    "import warnings\n",
    "\n",
    "from getpass import getpass"
   ]
  },
  {
   "cell_type": "markdown",
   "metadata": {},
   "source": [
    "### Set Cell Output Directory"
   ]
  },
  {
   "cell_type": "code",
   "execution_count": null,
   "metadata": {},
   "outputs": [],
   "source": [
    "new_output_directory = os.path.normcase(tempfile.mkdtemp())\n",
    "cpprefs.set_default_output_directory(new_output_directory)"
   ]
  },
  {
   "cell_type": "markdown",
   "metadata": {},
   "source": [
    "### OMERO Credentials"
   ]
  },
  {
   "cell_type": "code",
   "execution_count": null,
   "metadata": {},
   "outputs": [],
   "source": [
    "HOST = 'wss://workshop.openmicroscopy.org/omero-ws'\n",
    "conn = BlitzGateway(input(\"Username: \"),\n",
    "                    getpass(\"OMERO Password: \"),\n",
    "                    host=HOST, secure=True)\n",
    "print(conn.connect())\n",
    "conn.c.enableKeepAlive(60)"
   ]
  },
  {
   "cell_type": "markdown",
   "metadata": {},
   "source": [
    "### Fetch OMERO Plate that contains the Images to be analysed"
   ]
  },
  {
   "cell_type": "code",
   "execution_count": null,
   "metadata": {},
   "outputs": [],
   "source": [
    "plate_id = 102\n",
    "plate = conn.getObject(\"Plate\", plate_id)\n",
    "print('Plate Name: ', plate.getName())"
   ]
  },
  {
   "cell_type": "code",
   "execution_count": null,
   "metadata": {},
   "outputs": [],
   "source": [
    "# Load pipeline and inspect modules\n",
    "pipeline = cpp.Pipeline()\n",
    "pipeline.load(\"./pipelines/ExamplePercentPositive.cppipe\")\n",
    "\n",
    "# Remove first 4 modules: Images, Metadata, NamesAndTypes, Groups...\n",
    "# (replaced by InjectImage module below)\n",
    "for i in range(4):\n",
    "    print('Remove module: ', pipeline.modules()[0].module_name)\n",
    "    pipeline.remove_module(1)\n",
    "\n",
    "print('Pipeline modules:')\n",
    "for module in pipeline.modules():\n",
    "    print(module.module_num, module.module_name)"
   ]
  },
  {
   "cell_type": "markdown",
   "metadata": {},
   "source": [
    "### Run Cell Profiler Pipeline on a plate"
   ]
  },
  {
   "cell_type": "code",
   "execution_count": null,
   "metadata": {},
   "outputs": [],
   "source": [
    "warnings.filterwarnings('ignore')\n",
    "\n",
    "Nuclei = pandas.DataFrame()\n",
    "files = list()\n",
    "\n",
    "# create list from generator\n",
    "wells = list(plate.listChildren())\n",
    "# To analyze all the wells\n",
    "# well_count = len(wells)\n",
    "# use the first 5 wells only\n",
    "well_count = 5\n",
    "wells = wells[0:well_count]\n",
    "\n",
    "for count, well in enumerate(wells):\n",
    "    print('Well: %s/%s' % (count + 1, well_count), 'row:', well.row, 'column:', well.column)\n",
    "    # Load a single Image per Well\n",
    "    image = well.getImage(0)\n",
    "    pixels = image.getPrimaryPixels()\n",
    "    size_c = image.getSizeC()\n",
    "\n",
    "    # For each Image in OMERO, we copy pipeline and inject image modules\n",
    "    pipeline_copy = pipeline.copy()\n",
    "\n",
    "    # Inject image for each Channel (pipeline only handles 2 channels)\n",
    "    for c in range(0, size_c):\n",
    "\n",
    "        plane = pixels.getPlane(0, c, 0)\n",
    "        image_name = image.getName()\n",
    "\n",
    "        # Name of the channel expected in the pipeline\n",
    "        if c == 0:\n",
    "            image_name = 'OrigBlue'\n",
    "        if c == 1:\n",
    "            image_name = 'OrigGreen'\n",
    "\n",
    "        inject_image_module = InjectImage(image_name, plane)\n",
    "        inject_image_module.set_module_num(1)\n",
    "        pipeline_copy.add_module(inject_image_module)\n",
    "\n",
    "    pipeline_copy.run()\n",
    "\n",
    "    # Results obtained as CSV from Cell Profiler\n",
    "    path = new_output_directory + '/Nuclei.csv'\n",
    "    f = pandas.read_csv(path, index_col=None, header=0)\n",
    "    f['Image'] = image.getId()\n",
    "    f['Well'] = well.getId()\n",
    "    f['Cell_Count'] = len(f.index)\n",
    "    files.append(f)\n",
    "\n",
    "Nuclei = pandas.concat(files, ignore_index=True)"
   ]
  },
  {
   "cell_type": "markdown",
   "metadata": {},
   "source": [
    "### Calculate statistics"
   ]
  },
  {
   "cell_type": "code",
   "execution_count": null,
   "metadata": {},
   "outputs": [],
   "source": [
    "Nuclei.describe()"
   ]
  },
  {
   "cell_type": "markdown",
   "metadata": {},
   "source": [
    "### Save the ouput to the server as OMERO.table"
   ]
  },
  {
   "cell_type": "code",
   "execution_count": null,
   "metadata": {},
   "outputs": [],
   "source": [
    "from omero.grid import DoubleColumn, ImageColumn, LongColumn, WellColumn\n",
    "from omero.constants.namespaces import NSBULKANNOTATIONS\n",
    "from omero.gateway import FileAnnotationWrapper\n",
    "from omero.model import OriginalFileI\n",
    "\n",
    "cols = []\n",
    "summary = Nuclei.groupby('Image').mean()\n",
    "# Free memory\n",
    "del Nuclei\n",
    "for col in summary.columns:\n",
    "    if col == 'Image':\n",
    "        cols.append(ImageColumn(col, '', summary[col]))\n",
    "    elif col == 'Well':\n",
    "        cols.append(WellColumn(col, '', summary[col]))\n",
    "    elif summary[col].dtype == 'int64':\n",
    "        cols.append(LongColumn(col, '', summary[col]))\n",
    "    elif summary[col].dtype == 'float64':\n",
    "        cols.append(DoubleColumn(col, '', summary[col]))\n",
    "\n",
    "resources = conn.c.sf.sharedResources()\n",
    "repository_id = resources.repositories().descriptions[0].getId().getValue()\n",
    "table_name = \"idr0002_cellprofiler\"\n",
    "table = resources.newTable(repository_id, table_name)\n",
    "table.initialize(cols)\n",
    "table.addData(cols)\n",
    "\n",
    "# Link the table to the plate\n",
    "orig_file = table.getOriginalFile()\n",
    "file_ann = FileAnnotationWrapper(conn)\n",
    "file_ann.setNs(NSBULKANNOTATIONS)\n",
    "file_ann._obj.file = OriginalFileI(orig_file.id.val, False)\n",
    "file_ann.save()\n",
    "plate.linkAnnotation(file_ann)\n",
    "table.close()"
   ]
  },
  {
   "cell_type": "markdown",
   "metadata": {},
   "source": [
    "### Close the connection to the OMERO server"
   ]
  },
  {
   "cell_type": "code",
   "execution_count": null,
   "metadata": {},
   "outputs": [],
   "source": [
    "conn.close()"
   ]
  },
  {
   "cell_type": "markdown",
   "metadata": {
    "collapsed": true
   },
   "source": [
    "### License (BSD 2-Clause)\n",
    "Copyright (C) 2020-2023 University of Dundee. All Rights Reserved.\n",
    "\n",
    "Redistribution and use in source and binary forms, with or without modification, are permitted provided that the following conditions are met:\n",
    "\n",
    "Redistributions of source code must retain the above copyright notice, this list of conditions and the following disclaimer.\n",
    "Redistributions in binary form must reproduce the above copyright notice, this list of conditions and the following disclaimer in the documentation and/or other materials provided with the distribution.\n",
    "THIS SOFTWARE IS PROVIDED BY THE COPYRIGHT HOLDERS AND CONTRIBUTORS \"AS IS\" AND ANY EXPRESS OR IMPLIED WARRANTIES, INCLUDING, BUT NOT LIMITED TO, THE IMPLIED WARRANTIES OF MERCHANTABILITY AND FITNESS FOR A PARTICULAR PURPOSE ARE DISCLAIMED. IN NO EVENT SHALL THE COPYRIGHT OWNER OR CONTRIBUTORS BE LIABLE FOR ANY DIRECT, INDIRECT, INCIDENTAL, SPECIAL, EXEMPLARY, OR CONSEQUENTIAL DAMAGES (INCLUDING, BUT NOT LIMITED TO, PROCUREMENT OF SUBSTITUTE GOODS OR SERVICES; LOSS OF USE, DATA, OR PROFITS; OR BUSINESS INTERRUPTION) HOWEVER CAUSED AND ON ANY THEORY OF LIABILITY, WHETHER IN CONTRACT, STRICT LIABILITY, OR TORT (INCLUDING NEGLIGENCE OR OTHERWISE) ARISING IN ANY WAY OUT OF THE USE OF THIS SOFTWARE, EVEN IF ADVISED OF THE POSSIBILITY OF SUCH DAMAGE."
   ]
  }
 ],
 "metadata": {
  "kernelspec": {
   "display_name": "Python 3 (ipykernel)",
   "language": "python",
   "name": "python3"
  },
  "language_info": {
   "codemirror_mode": {
    "name": "ipython",
    "version": 3
   },
   "file_extension": ".py",
   "mimetype": "text/x-python",
   "name": "python",
   "nbconvert_exporter": "python",
   "pygments_lexer": "ipython3",
   "version": "3.9.12"
  }
 },
 "nbformat": 4,
 "nbformat_minor": 2
}
