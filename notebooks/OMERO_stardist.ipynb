{
 "cells": [
  {
   "cell_type": "markdown",
   "metadata": {},
   "source": [
    "# 2D Stardist segmentation on 2D/3D/timelapse OMERO images"
   ]
  },
  {
   "cell_type": "markdown",
   "metadata": {},
   "source": [
    "This notebook is used for Stardist segmentation. Some inspiration from the https://github.com/ome/omero-guide-cellprofiler/idr0002.ipynb"
   ]
  },
  {
   "cell_type": "markdown",
   "metadata": {},
   "source": [
    "### Import Packages"
   ]
  },
  {
   "cell_type": "code",
   "execution_count": 64,
   "metadata": {},
   "outputs": [
    {
     "name": "stdout",
     "output_type": "stream",
     "text": [
      "Found model '2D_versatile_fluo' for 'StarDist2D'.\n",
      "Loading network weights from 'weights_best.h5'.\n",
      "Loading thresholds from 'thresholds.json'.\n",
      "Using default values: prob_thresh=0.479071, nms_thresh=0.3.\n"
     ]
    }
   ],
   "source": [
    "# Import OMERO Python BlitzGateway\n",
    "import omero\n",
    "from omero.gateway import BlitzGateway\n",
    "import ezomero\n",
    "# Import Numpy\n",
    "import numpy as np\n",
    "\n",
    "# Import Python System Packages\n",
    "import os\n",
    "import tempfile\n",
    "import pandas\n",
    "import warnings\n",
    "\n",
    "#stardist related\n",
    "from stardist.models import StarDist2D\n",
    "from csbdeep.utils import normalize\n",
    "from stardist.plot import render_label\n",
    "import matplotlib.pyplot as plt\n",
    "from tifffile import imsave\n",
    "\n",
    "#load stardist model\n",
    "model = StarDist2D.from_pretrained('2D_versatile_fluo')"
   ]
  },
  {
   "cell_type": "markdown",
   "metadata": {},
   "source": [
    "### Set Temp Output Directory"
   ]
  },
  {
   "cell_type": "code",
   "execution_count": 65,
   "metadata": {},
   "outputs": [],
   "source": [
    "new_output_directory = os.path.normcase(tempfile.mkdtemp())"
   ]
  },
  {
   "cell_type": "markdown",
   "metadata": {},
   "source": [
    "### Setup connection with OMERO"
   ]
  },
  {
   "cell_type": "code",
   "execution_count": 66,
   "metadata": {},
   "outputs": [
    {
     "name": "stdout",
     "output_type": "stream",
     "text": [
      "True\n"
     ]
    }
   ],
   "source": [
    "conn = BlitzGateway(host='localhost', username='root', passwd='omero', secure=True)\n",
    "print(conn.connect())\n",
    "conn.c.enableKeepAlive(60)"
   ]
  },
  {
   "cell_type": "markdown",
   "metadata": {},
   "source": [
    "### Get info from the dataset"
   ]
  },
  {
   "cell_type": "code",
   "execution_count": 67,
   "metadata": {},
   "outputs": [
    {
     "name": "stdout",
     "output_type": "stream",
     "text": [
      "Plate Name:  day7\n"
     ]
    }
   ],
   "source": [
    "datatype = \"plate\" # \"plate\", \"dataset\", \"image\"\n",
    "data_id = 52\n",
    "nucl_channel = 0\n",
    "\n",
    "#validate that data_id matches datatype\n",
    "if datatype == \"plate\":\n",
    "    plate = conn.getObject(\"Plate\", data_id)\n",
    "    print('Plate Name: ', plate.getName())\n",
    "elif datatype == \"dataset\":\n",
    "    dataset = conn.getObject(\"Dataset\", data_id)\n",
    "    print('Dataset Name: ', dataset.getName())\n",
    "elif datatype == \"image\":\n",
    "    image = conn.getObject(\"Image\", data_id)\n",
    "    print('Image Name: ', image.getName())"
   ]
  },
  {
   "cell_type": "markdown",
   "metadata": {},
   "source": [
    "### Run Stardist on the dataset"
   ]
  },
  {
   "cell_type": "markdown",
   "metadata": {},
   "source": [
    "#### Function definitions"
   ]
  },
  {
   "cell_type": "code",
   "execution_count": null,
   "metadata": {},
   "outputs": [],
   "source": [
    "def segment_nuclei_from_slice(image):\n",
    "    #normalize image\n",
    "    img = normalize(image)\n",
    "    labels, polygons = model.predict_instances(img)\n",
    "    return labels, polygons\n",
    "\n",
    "def save_segmentation_to_omero_as_new_image(image,labels,size_z,desc,conn): \n",
    "    new_img_name = image.getName() + \"_segmentation\"       \n",
    "    new_img = conn.createImageFromNumpySeq(\n",
    "        iter(labels), new_img_name, size_z, 1, 1, description=desc, dataset=image.getParent())\n",
    "    print('Created new Image:%s Name:\"%s\"' % (new_img.getId(), new_img.getName()))\n",
    "    #save a tif of the segmentation in new_output_directory    \n",
    "\n",
    "def save_segmentation_to_omero_as_attach(image,labels, tmp_dir,desc,conn):\n",
    "    #save segmentation to OMERO as attachment\n",
    "    img_name = image.getName()\n",
    "    tif_file = os.path.join(tmp_dir, img_name + \"_segmentation\"  + \".tif\")\n",
    "    imsave(tif_file, labels)\n",
    "    print('Saved segmentation to:', tif_file)\n",
    "    # Define the file path and namespace\n",
    "    namespace = \"stardist.segmentation\"\n",
    "    # Attach the file to the original image\n",
    "    file_annotation_id = ezomero.post_file_annotation(conn, tif_file, ns=namespace, object_type=\"Image\", object_id=image.getId(), description=desc)\n",
    "    print('File annotation ID:', file_annotation_id)\n",
    "    #remove tif file as it was temporary\n",
    "    os.remove(tif_file)\n",
    "\n",
    "def save_segmentation_to_omero_as_roi(image, polygons, size_z, conn):\n",
    "    all_polygons = []\n",
    "    \n",
    "    # Handle polygons as tuple\n",
    "    for z, polygon_dict in enumerate(polygons):\n",
    "        if not polygon_dict or 'coord' not in polygon_dict:\n",
    "            continue\n",
    "            \n",
    "        coords_array = polygon_dict['coord']\n",
    "        if coords_array.size == 0:\n",
    "            continue\n",
    "            \n",
    "        # Process each contour in the coordinates array\n",
    "        for contour_idx in range(coords_array.shape[0]):\n",
    "            try:\n",
    "                # Extract x,y coordinates for current contour\n",
    "                xy_coords = coords_array[contour_idx]\n",
    "                #x and y coordinates are flipped from StarDist output\n",
    "                points = [(float(y), float(x)) for x, y in zip(xy_coords[0], xy_coords[1])]\n",
    "                \n",
    "                ezomero_polygon = ezomero.rois.Polygon(\n",
    "                    points=points,\n",
    "                    z=z,\n",
    "                    c=None,\n",
    "                    t=None,\n",
    "                    label=\"nuclei\",\n",
    "                    fill_color=None,\n",
    "                    stroke_color=None,\n",
    "                    stroke_width=None\n",
    "                )\n",
    "                all_polygons.append(ezomero_polygon)\n",
    "            \n",
    "            except Exception as e:\n",
    "                print(f\"Error processing contour {contour_idx} at z={z}: {e}\")\n",
    "                continue\n",
    "    \n",
    "    if all_polygons:\n",
    "        try:\n",
    "            roi_id = ezomero.post_roi(\n",
    "                conn=conn,\n",
    "                image_id=image.getId(),\n",
    "                shapes=all_polygons,\n",
    "                name=\"Stardist Nuclei\",\n",
    "                description=\"Nuclei segmentation using Stardist\"\n",
    "            )\n",
    "            print(f\"Created ROI with ID: {roi_id}\")\n",
    "        except Exception as e:\n",
    "            print(f\"Error creating ROI: {e}\")\n",
    "    else:\n",
    "        print(\"Warning: No valid polygons were created\")"
   ]
  },
  {
   "cell_type": "code",
   "execution_count": 140,
   "metadata": {},
   "outputs": [],
   "source": [
    "import pyclesperanto_prototype as cle\n",
    "import pandas as pd\n",
    "\n",
    "def measure_intensity_per_slice(pixels, labels, size_z, size_c):\n",
    "    all_statistics = []\n",
    "    if size_z > 1:\n",
    "        for z, label in zip(range(size_z), labels):\n",
    "            for c in range(size_c):\n",
    "                statistics = cle.statistics_of_labelled_pixels(pixels.getPlane(z, c, 0), label)\n",
    "                statistics = pd.DataFrame(statistics)\n",
    "                statistics['z'] = z\n",
    "                statistics['channel'] = c\n",
    "                all_statistics.append(statistics)\n",
    "    else:\n",
    "        statistics = cle.statistics_of_labelled_pixels(pixels.getPlane(1, 0, 0), labels)\n",
    "        statistics['z'] = 0\n",
    "        all_statistics.append(statistics)\n",
    "    \n",
    "    # Concatenate all statistics into a single DataFrame\n",
    "    all_statistics_df = pd.concat(all_statistics, ignore_index=True)\n",
    "    \n",
    "    return all_statistics_df\n"
   ]
  },
  {
   "cell_type": "markdown",
   "metadata": {},
   "source": [
    "#### code"
   ]
  },
  {
   "cell_type": "code",
   "execution_count": null,
   "metadata": {},
   "outputs": [
    {
     "name": "stdout",
     "output_type": "stream",
     "text": [
      "Well: 1/72 row: 0 column: 0\n"
     ]
    },
    {
     "name": "stderr",
     "output_type": "stream",
     "text": [
      "cast.py (1134): invalid value encountered in cast\n",
      "cast.py (1153): invalid value encountered in cast\n"
     ]
    },
    {
     "name": "stdout",
     "output_type": "stream",
     "text": [
      "Created table ID: 263\n",
      "Created new Image:726 Name:\"14-6-24_FUCCI_PDLO_Day7_plate1-fixed_007.nd2 [14-6-24_FUCCI_PDLO_Day7_plate1-fixed_007.nd2 (series 01)].tif_segmentation\"\n",
      "Created ROI with ID: 16\n",
      "Well: 2/72 row: 0 column: 1\n"
     ]
    },
    {
     "name": "stderr",
     "output_type": "stream",
     "text": [
      "cast.py (1134): invalid value encountered in cast\n",
      "cast.py (1153): invalid value encountered in cast\n"
     ]
    },
    {
     "name": "stdout",
     "output_type": "stream",
     "text": [
      "Created table ID: 264\n",
      "Created new Image:727 Name:\"14-6-24_FUCCI_PDLO_Day7_plate1-fixed_007.nd2 [14-6-24_FUCCI_PDLO_Day7_plate1-fixed_007.nd2 (series 02)].tif_segmentation\"\n",
      "Created ROI with ID: 17\n",
      "Well: 3/72 row: 0 column: 2\n"
     ]
    },
    {
     "name": "stderr",
     "output_type": "stream",
     "text": [
      "cast.py (1134): invalid value encountered in cast\n",
      "cast.py (1153): invalid value encountered in cast\n"
     ]
    },
    {
     "name": "stdout",
     "output_type": "stream",
     "text": [
      "Created table ID: 265\n",
      "Created new Image:728 Name:\"14-6-24_FUCCI_PDLO_Day7_plate1-fixed_007.nd2 [14-6-24_FUCCI_PDLO_Day7_plate1-fixed_007.nd2 (series 03)].tif_segmentation\"\n",
      "Created ROI with ID: 18\n",
      "Well: 4/72 row: 0 column: 3\n"
     ]
    },
    {
     "name": "stderr",
     "output_type": "stream",
     "text": [
      "cast.py (1134): invalid value encountered in cast\n",
      "cast.py (1153): invalid value encountered in cast\n"
     ]
    },
    {
     "name": "stdout",
     "output_type": "stream",
     "text": [
      "Created table ID: 266\n",
      "Created new Image:729 Name:\"14-6-24_FUCCI_PDLO_Day7_plate1-fixed_007.nd2 [14-6-24_FUCCI_PDLO_Day7_plate1-fixed_007.nd2 (series 04)].tif_segmentation\"\n",
      "Created ROI with ID: 19\n",
      "Well: 5/72 row: 0 column: 4\n"
     ]
    },
    {
     "name": "stderr",
     "output_type": "stream",
     "text": [
      "cast.py (1134): invalid value encountered in cast\n",
      "cast.py (1153): invalid value encountered in cast\n"
     ]
    },
    {
     "name": "stdout",
     "output_type": "stream",
     "text": [
      "Created table ID: 267\n",
      "Created new Image:730 Name:\"14-6-24_FUCCI_PDLO_Day7_plate1-fixed_007.nd2 [14-6-24_FUCCI_PDLO_Day7_plate1-fixed_007.nd2 (series 05)].tif_segmentation\"\n",
      "Created ROI with ID: 20\n",
      "Well: 6/72 row: 0 column: 5\n"
     ]
    },
    {
     "name": "stderr",
     "output_type": "stream",
     "text": [
      "cast.py (1134): invalid value encountered in cast\n",
      "cast.py (1153): invalid value encountered in cast\n"
     ]
    },
    {
     "name": "stdout",
     "output_type": "stream",
     "text": [
      "Created table ID: 268\n",
      "Created new Image:731 Name:\"14-6-24_FUCCI_PDLO_Day7_plate1-fixed_007.nd2 [14-6-24_FUCCI_PDLO_Day7_plate1-fixed_007.nd2 (series 06)].tif_segmentation\"\n",
      "Created ROI with ID: 21\n",
      "Well: 7/72 row: 0 column: 6\n"
     ]
    },
    {
     "name": "stderr",
     "output_type": "stream",
     "text": [
      "cast.py (1134): invalid value encountered in cast\n",
      "cast.py (1153): invalid value encountered in cast\n"
     ]
    },
    {
     "name": "stdout",
     "output_type": "stream",
     "text": [
      "Created table ID: 269\n",
      "Created new Image:732 Name:\"14-6-24_FUCCI_PDLO_Day7_plate1-fixed_007.nd2 [14-6-24_FUCCI_PDLO_Day7_plate1-fixed_007.nd2 (series 07)].tif_segmentation\"\n",
      "Created ROI with ID: 22\n",
      "Well: 8/72 row: 0 column: 7\n"
     ]
    },
    {
     "name": "stderr",
     "output_type": "stream",
     "text": [
      "cast.py (1134): invalid value encountered in cast\n",
      "cast.py (1153): invalid value encountered in cast\n"
     ]
    },
    {
     "name": "stdout",
     "output_type": "stream",
     "text": [
      "Created table ID: 270\n",
      "Created new Image:733 Name:\"14-6-24_FUCCI_PDLO_Day7_plate1-fixed_007.nd2 [14-6-24_FUCCI_PDLO_Day7_plate1-fixed_007.nd2 (series 08)].tif_segmentation\"\n",
      "Created ROI with ID: 23\n",
      "Well: 9/72 row: 0 column: 8\n"
     ]
    },
    {
     "name": "stderr",
     "output_type": "stream",
     "text": [
      "cast.py (1134): invalid value encountered in cast\n",
      "cast.py (1153): invalid value encountered in cast\n"
     ]
    },
    {
     "name": "stdout",
     "output_type": "stream",
     "text": [
      "Created table ID: 271\n",
      "Created new Image:734 Name:\"14-6-24_FUCCI_PDLO_Day7_plate1-fixed_007.nd2 [14-6-24_FUCCI_PDLO_Day7_plate1-fixed_007.nd2 (series 09)].tif_segmentation\"\n",
      "Created ROI with ID: 24\n",
      "Well: 10/72 row: 0 column: 9\n"
     ]
    },
    {
     "name": "stderr",
     "output_type": "stream",
     "text": [
      "cast.py (1134): invalid value encountered in cast\n",
      "cast.py (1153): invalid value encountered in cast\n"
     ]
    },
    {
     "name": "stdout",
     "output_type": "stream",
     "text": [
      "Created table ID: 272\n",
      "Created new Image:735 Name:\"14-6-24_FUCCI_PDLO_Day7_plate1-fixed_007.nd2 [14-6-24_FUCCI_PDLO_Day7_plate1-fixed_007.nd2 (series 10)].tif_segmentation\"\n",
      "Created ROI with ID: 25\n",
      "Well: 11/72 row: 0 column: 10\n"
     ]
    },
    {
     "name": "stderr",
     "output_type": "stream",
     "text": [
      "cast.py (1134): invalid value encountered in cast\n",
      "cast.py (1153): invalid value encountered in cast\n"
     ]
    },
    {
     "name": "stdout",
     "output_type": "stream",
     "text": [
      "Created table ID: 273\n",
      "Created new Image:736 Name:\"14-6-24_FUCCI_PDLO_Day7_plate1-fixed_007.nd2 [14-6-24_FUCCI_PDLO_Day7_plate1-fixed_007.nd2 (series 11)].tif_segmentation\"\n",
      "Created ROI with ID: 26\n",
      "Well: 12/72 row: 0 column: 11\n"
     ]
    },
    {
     "name": "stderr",
     "output_type": "stream",
     "text": [
      "cast.py (1134): invalid value encountered in cast\n",
      "cast.py (1153): invalid value encountered in cast\n"
     ]
    },
    {
     "name": "stdout",
     "output_type": "stream",
     "text": [
      "Created table ID: 274\n",
      "Created new Image:737 Name:\"14-6-24_FUCCI_PDLO_Day7_plate1-fixed_007.nd2 [14-6-24_FUCCI_PDLO_Day7_plate1-fixed_007.nd2 (series 12)].tif_segmentation\"\n",
      "Created ROI with ID: 27\n",
      "Well: 13/72 row: 1 column: 0\n"
     ]
    },
    {
     "name": "stderr",
     "output_type": "stream",
     "text": [
      "cast.py (1134): invalid value encountered in cast\n",
      "cast.py (1153): invalid value encountered in cast\n"
     ]
    },
    {
     "name": "stdout",
     "output_type": "stream",
     "text": [
      "Created table ID: 275\n",
      "Created new Image:738 Name:\"14-6-24_FUCCI_PDLO_Day7_plate1-fixed_007.nd2 [14-6-24_FUCCI_PDLO_Day7_plate1-fixed_007.nd2 (series 13)].tif_segmentation\"\n",
      "Created ROI with ID: 28\n",
      "Well: 14/72 row: 1 column: 1\n"
     ]
    },
    {
     "name": "stderr",
     "output_type": "stream",
     "text": [
      "cast.py (1134): invalid value encountered in cast\n",
      "cast.py (1153): invalid value encountered in cast\n"
     ]
    },
    {
     "name": "stdout",
     "output_type": "stream",
     "text": [
      "Created table ID: 276\n",
      "Created new Image:739 Name:\"14-6-24_FUCCI_PDLO_Day7_plate1-fixed_007.nd2 [14-6-24_FUCCI_PDLO_Day7_plate1-fixed_007.nd2 (series 14)].tif_segmentation\"\n",
      "Created ROI with ID: 29\n",
      "Well: 15/72 row: 1 column: 2\n"
     ]
    },
    {
     "name": "stderr",
     "output_type": "stream",
     "text": [
      "cast.py (1134): invalid value encountered in cast\n",
      "cast.py (1153): invalid value encountered in cast\n"
     ]
    },
    {
     "name": "stdout",
     "output_type": "stream",
     "text": [
      "Created table ID: 277\n",
      "Created new Image:740 Name:\"14-6-24_FUCCI_PDLO_Day7_plate1-fixed_007.nd2 [14-6-24_FUCCI_PDLO_Day7_plate1-fixed_007.nd2 (series 15)].tif_segmentation\"\n",
      "Created ROI with ID: 30\n",
      "Well: 16/72 row: 1 column: 3\n",
      "Created table ID: 278\n",
      "Created new Image:741 Name:\"14-6-24_FUCCI_PDLO_Day7_plate1-fixed_007.nd2 [14-6-24_FUCCI_PDLO_Day7_plate1-fixed_007.nd2 (series 16)].tif_segmentation\"\n",
      "Created ROI with ID: 31\n",
      "Well: 17/72 row: 1 column: 4\n"
     ]
    },
    {
     "name": "stderr",
     "output_type": "stream",
     "text": [
      "cast.py (1134): invalid value encountered in cast\n",
      "cast.py (1153): invalid value encountered in cast\n"
     ]
    },
    {
     "name": "stdout",
     "output_type": "stream",
     "text": [
      "Created table ID: 279\n",
      "Created new Image:742 Name:\"14-6-24_FUCCI_PDLO_Day7_plate1-fixed_007.nd2 [14-6-24_FUCCI_PDLO_Day7_plate1-fixed_007.nd2 (series 17)].tif_segmentation\"\n",
      "Created ROI with ID: 32\n",
      "Well: 18/72 row: 1 column: 5\n"
     ]
    },
    {
     "name": "stderr",
     "output_type": "stream",
     "text": [
      "cast.py (1134): invalid value encountered in cast\n",
      "cast.py (1153): invalid value encountered in cast\n"
     ]
    },
    {
     "name": "stdout",
     "output_type": "stream",
     "text": [
      "Created table ID: 280\n",
      "Created new Image:743 Name:\"14-6-24_FUCCI_PDLO_Day7_plate1-fixed_007.nd2 [14-6-24_FUCCI_PDLO_Day7_plate1-fixed_007.nd2 (series 18)].tif_segmentation\"\n",
      "Created ROI with ID: 33\n",
      "Well: 19/72 row: 1 column: 6\n"
     ]
    },
    {
     "name": "stderr",
     "output_type": "stream",
     "text": [
      "cast.py (1134): invalid value encountered in cast\n",
      "cast.py (1153): invalid value encountered in cast\n"
     ]
    },
    {
     "name": "stdout",
     "output_type": "stream",
     "text": [
      "Created table ID: 281\n",
      "Created new Image:744 Name:\"14-6-24_FUCCI_PDLO_Day7_plate1-fixed_007.nd2 [14-6-24_FUCCI_PDLO_Day7_plate1-fixed_007.nd2 (series 19)].tif_segmentation\"\n",
      "Created ROI with ID: 34\n",
      "Well: 20/72 row: 1 column: 7\n",
      "Created table ID: 282\n",
      "Created new Image:745 Name:\"14-6-24_FUCCI_PDLO_Day7_plate1-fixed_007.nd2 [14-6-24_FUCCI_PDLO_Day7_plate1-fixed_007.nd2 (series 20)].tif_segmentation\"\n",
      "Created ROI with ID: 35\n",
      "Well: 21/72 row: 1 column: 8\n"
     ]
    },
    {
     "name": "stderr",
     "output_type": "stream",
     "text": [
      "cast.py (1134): invalid value encountered in cast\n",
      "cast.py (1153): invalid value encountered in cast\n"
     ]
    },
    {
     "name": "stdout",
     "output_type": "stream",
     "text": [
      "Created table ID: 283\n",
      "Created new Image:746 Name:\"14-6-24_FUCCI_PDLO_Day7_plate1-fixed_007.nd2 [14-6-24_FUCCI_PDLO_Day7_plate1-fixed_007.nd2 (series 21)].tif_segmentation\"\n",
      "Created ROI with ID: 36\n",
      "Well: 22/72 row: 1 column: 9\n"
     ]
    },
    {
     "name": "stderr",
     "output_type": "stream",
     "text": [
      "cast.py (1134): invalid value encountered in cast\n",
      "cast.py (1153): invalid value encountered in cast\n"
     ]
    },
    {
     "name": "stdout",
     "output_type": "stream",
     "text": [
      "Created table ID: 284\n",
      "Created new Image:747 Name:\"14-6-24_FUCCI_PDLO_Day7_plate1-fixed_007.nd2 [14-6-24_FUCCI_PDLO_Day7_plate1-fixed_007.nd2 (series 22)].tif_segmentation\"\n",
      "Created ROI with ID: 37\n",
      "Well: 23/72 row: 1 column: 10\n"
     ]
    },
    {
     "name": "stderr",
     "output_type": "stream",
     "text": [
      "cast.py (1134): invalid value encountered in cast\n",
      "cast.py (1153): invalid value encountered in cast\n"
     ]
    },
    {
     "name": "stdout",
     "output_type": "stream",
     "text": [
      "Created table ID: 285\n",
      "Created new Image:748 Name:\"14-6-24_FUCCI_PDLO_Day7_plate1-fixed_007.nd2 [14-6-24_FUCCI_PDLO_Day7_plate1-fixed_007.nd2 (series 23)].tif_segmentation\"\n",
      "Created ROI with ID: 38\n",
      "Well: 24/72 row: 1 column: 11\n"
     ]
    },
    {
     "name": "stderr",
     "output_type": "stream",
     "text": [
      "cast.py (1134): invalid value encountered in cast\n",
      "cast.py (1153): invalid value encountered in cast\n"
     ]
    },
    {
     "name": "stdout",
     "output_type": "stream",
     "text": [
      "Created table ID: 286\n",
      "Created new Image:749 Name:\"14-6-24_FUCCI_PDLO_Day7_plate1-fixed_007.nd2 [14-6-24_FUCCI_PDLO_Day7_plate1-fixed_007.nd2 (series 24)].tif_segmentation\"\n",
      "Created ROI with ID: 39\n",
      "Well: 25/72 row: 2 column: 0\n"
     ]
    },
    {
     "name": "stderr",
     "output_type": "stream",
     "text": [
      "cast.py (1134): invalid value encountered in cast\n",
      "cast.py (1153): invalid value encountered in cast\n"
     ]
    },
    {
     "name": "stdout",
     "output_type": "stream",
     "text": [
      "Created table ID: 287\n",
      "Created new Image:750 Name:\"14-6-24_FUCCI_PDLO_Day7_plate1-fixed_007.nd2 [14-6-24_FUCCI_PDLO_Day7_plate1-fixed_007.nd2 (series 25)].tif_segmentation\"\n",
      "Created ROI with ID: 40\n",
      "Well: 26/72 row: 2 column: 1\n"
     ]
    },
    {
     "name": "stderr",
     "output_type": "stream",
     "text": [
      "cast.py (1134): invalid value encountered in cast\n",
      "cast.py (1153): invalid value encountered in cast\n"
     ]
    },
    {
     "name": "stdout",
     "output_type": "stream",
     "text": [
      "Created table ID: 288\n",
      "Created new Image:751 Name:\"14-6-24_FUCCI_PDLO_Day7_plate1-fixed_007.nd2 [14-6-24_FUCCI_PDLO_Day7_plate1-fixed_007.nd2 (series 26)].tif_segmentation\"\n",
      "Created ROI with ID: 41\n",
      "Well: 27/72 row: 2 column: 2\n"
     ]
    },
    {
     "name": "stderr",
     "output_type": "stream",
     "text": [
      "cast.py (1134): invalid value encountered in cast\n",
      "cast.py (1153): invalid value encountered in cast\n"
     ]
    },
    {
     "name": "stdout",
     "output_type": "stream",
     "text": [
      "Created table ID: 289\n",
      "Created new Image:752 Name:\"14-6-24_FUCCI_PDLO_Day7_plate1-fixed_007.nd2 [14-6-24_FUCCI_PDLO_Day7_plate1-fixed_007.nd2 (series 27)].tif_segmentation\"\n",
      "Created ROI with ID: 42\n",
      "Well: 28/72 row: 2 column: 3\n"
     ]
    },
    {
     "name": "stderr",
     "output_type": "stream",
     "text": [
      "cast.py (1134): invalid value encountered in cast\n",
      "cast.py (1153): invalid value encountered in cast\n"
     ]
    },
    {
     "name": "stdout",
     "output_type": "stream",
     "text": [
      "Created table ID: 290\n",
      "Created new Image:753 Name:\"14-6-24_FUCCI_PDLO_Day7_plate1-fixed_007.nd2 [14-6-24_FUCCI_PDLO_Day7_plate1-fixed_007.nd2 (series 28)].tif_segmentation\"\n",
      "Created ROI with ID: 43\n",
      "Well: 29/72 row: 2 column: 4\n"
     ]
    },
    {
     "name": "stderr",
     "output_type": "stream",
     "text": [
      "cast.py (1134): invalid value encountered in cast\n",
      "cast.py (1153): invalid value encountered in cast\n"
     ]
    },
    {
     "name": "stdout",
     "output_type": "stream",
     "text": [
      "Created table ID: 291\n",
      "Created new Image:754 Name:\"14-6-24_FUCCI_PDLO_Day7_plate1-fixed_007.nd2 [14-6-24_FUCCI_PDLO_Day7_plate1-fixed_007.nd2 (series 29)].tif_segmentation\"\n",
      "Created ROI with ID: 44\n",
      "Well: 30/72 row: 2 column: 5\n",
      "Created table ID: 292\n",
      "Created new Image:755 Name:\"14-6-24_FUCCI_PDLO_Day7_plate1-fixed_007.nd2 [14-6-24_FUCCI_PDLO_Day7_plate1-fixed_007.nd2 (series 30)].tif_segmentation\"\n",
      "Created ROI with ID: 45\n",
      "Well: 31/72 row: 2 column: 6\n"
     ]
    },
    {
     "name": "stderr",
     "output_type": "stream",
     "text": [
      "cast.py (1134): invalid value encountered in cast\n",
      "cast.py (1153): invalid value encountered in cast\n"
     ]
    },
    {
     "name": "stdout",
     "output_type": "stream",
     "text": [
      "Created table ID: 293\n",
      "Created new Image:756 Name:\"14-6-24_FUCCI_PDLO_Day7_plate1-fixed_007.nd2 [14-6-24_FUCCI_PDLO_Day7_plate1-fixed_007.nd2 (series 31)].tif_segmentation\"\n",
      "Created ROI with ID: 46\n",
      "Well: 32/72 row: 2 column: 7\n"
     ]
    },
    {
     "name": "stderr",
     "output_type": "stream",
     "text": [
      "cast.py (1134): invalid value encountered in cast\n",
      "cast.py (1153): invalid value encountered in cast\n"
     ]
    },
    {
     "name": "stdout",
     "output_type": "stream",
     "text": [
      "Created table ID: 294\n",
      "Created new Image:757 Name:\"14-6-24_FUCCI_PDLO_Day7_plate1-fixed_007.nd2 [14-6-24_FUCCI_PDLO_Day7_plate1-fixed_007.nd2 (series 32)].tif_segmentation\"\n",
      "Created ROI with ID: 47\n",
      "Well: 33/72 row: 2 column: 8\n"
     ]
    }
   ],
   "source": [
    "#TODO extend to handle multiple channels,timepoints\n",
    "#TODO measure the intensity of the segmented nuclei in the other channels\n",
    "#TODO attach those results as a table to the original image in OMERO\n",
    "\n",
    "if datatype == \"plate\":\n",
    "    wells = list(plate.listChildren())\n",
    "    # use the first 3 wells only\n",
    "    #wells = wells[0:3] # for testing\n",
    "    well_count = len(wells)\n",
    "    for count, well in enumerate(wells):\n",
    "            print('Well: %s/%s' % (count + 1, well_count), 'row:', well.row, 'column:', well.column)\n",
    "            # Load a single Image per Well TODO load all images for a well if there are multiple\n",
    "            image = well.getImage(0)\n",
    "            pixels = image.getPrimaryPixels()\n",
    "            #temp\n",
    "            size_c = image.getSizeC()\n",
    "            size_z = image.getSizeZ()\n",
    "            #get all planes for the first channel\n",
    "            if size_z > 1: # 3D Image\n",
    "                planes = [pixels.getPlane(z, 0, 0) for z in range(size_z)]\n",
    "                labels_polygons = [segment_nuclei_from_slice(plane) for plane in planes]\n",
    "                labels, polygons = zip(*labels_polygons)\n",
    "                #polygons = [sublist for sublist in polygons]\n",
    "            else: # 2D Image            \n",
    "                print(\"2D\")   \n",
    "            #save stack back to OMERO same project only add _nucleisegmentation to the name\n",
    "            new_img_name = image.getName() + \"_nucleisegmentation\"\n",
    "            desc = \"Stardist nuclei segmentation\"\n",
    "            all_statistics_df = measure_intensity_per_slice(pixels,labels,size_z,size_c)\n",
    "            tabelid = ezomero.post_table(conn, object_type=\"Image\", object_id=image.getId(), table = all_statistics_df,title=\"Nuclei_measurements\")\n",
    "            print('Created table ID:', tabelid)\n",
    "            #save_segmentation_to_omero_as_attach(image,labels, new_output_directory,desc,conn)\n",
    "            save_segmentation_to_omero_as_new_image(image,labels,size_z,desc,conn)\n",
    "            save_segmentation_to_omero_as_roi(image,polygons,size_z,conn)\n",
    "            \n",
    "elif datatype == \"dataset\":\n",
    "    images = list(dataset.listChildren())\n",
    "    # use the first 3 images only\n",
    "    images = images[0:3]\n",
    "    image_count = len(images)\n",
    "    for count, image in enumerate(images):\n",
    "        print('Image: %s/%s' % (count + 1, image_count), 'Name:', image.getName())\n",
    "        pixels = image.getPrimaryPixels()\n",
    "        size_c = image.getSizeC()\n",
    "        nuc_img = pixels.getPlane(0, 0, 0)"
   ]
  },
  {
   "cell_type": "code",
   "execution_count": null,
   "metadata": {},
   "outputs": [],
   "source": []
  }
 ],
 "metadata": {
  "kernelspec": {
   "display_name": "omero-guide-cellprofiler",
   "language": "python",
   "name": "python3"
  },
  "language_info": {
   "codemirror_mode": {
    "name": "ipython",
    "version": 3
   },
   "file_extension": ".py",
   "mimetype": "text/x-python",
   "name": "python",
   "nbconvert_exporter": "python",
   "pygments_lexer": "ipython3",
   "version": "3.8.18"
  }
 },
 "nbformat": 4,
 "nbformat_minor": 2
}
