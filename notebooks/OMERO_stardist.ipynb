{
 "cells": [
  {
   "cell_type": "markdown",
   "metadata": {},
   "source": [
    "# 2D Stardist segmentation on 2D/3D/timelapse OMERO images"
   ]
  },
  {
   "cell_type": "markdown",
   "metadata": {},
   "source": [
    "This notebook is used for Stardist segmentation. Some inspiration from the https://github.com/ome/omero-guide-cellprofiler/idr0002.ipynb"
   ]
  },
  {
   "cell_type": "markdown",
   "metadata": {},
   "source": [
    "### Import Packages"
   ]
  },
  {
   "cell_type": "code",
   "execution_count": 145,
   "metadata": {},
   "outputs": [
    {
     "name": "stdout",
     "output_type": "stream",
     "text": [
      "Found model '2D_versatile_fluo' for 'StarDist2D'.\n",
      "Loading network weights from 'weights_best.h5'.\n",
      "Loading thresholds from 'thresholds.json'.\n",
      "Using default values: prob_thresh=0.479071, nms_thresh=0.3.\n"
     ]
    }
   ],
   "source": [
    "# Import OMERO Python BlitzGateway\n",
    "import omero\n",
    "from omero.gateway import BlitzGateway\n",
    "import ezomero\n",
    "# Import Numpy\n",
    "import numpy as np\n",
    "\n",
    "# Import Python System Packages\n",
    "import os\n",
    "import tempfile\n",
    "import pandas\n",
    "import warnings\n",
    "\n",
    "#stardist related\n",
    "from stardist.models import StarDist2D\n",
    "from csbdeep.utils import normalize\n",
    "from stardist.plot import render_label\n",
    "import matplotlib.pyplot as plt\n",
    "from tifffile import imsave\n",
    "\n",
    "#load stardist model\n",
    "model = StarDist2D.from_pretrained('2D_versatile_fluo')"
   ]
  },
  {
   "cell_type": "markdown",
   "metadata": {},
   "source": [
    "### Set Temp Output Directory"
   ]
  },
  {
   "cell_type": "code",
   "execution_count": 146,
   "metadata": {},
   "outputs": [],
   "source": [
    "new_output_directory = os.path.normcase(tempfile.mkdtemp())"
   ]
  },
  {
   "cell_type": "markdown",
   "metadata": {},
   "source": [
    "### Setup connection with OMERO"
   ]
  },
  {
   "cell_type": "code",
   "execution_count": 148,
   "metadata": {},
   "outputs": [
    {
     "name": "stdout",
     "output_type": "stream",
     "text": [
      "True\n"
     ]
    }
   ],
   "source": [
    "conn = BlitzGateway(host='localhost', username='root', passwd='omero', secure=True)\n",
    "print(conn.connect())\n",
    "conn.c.enableKeepAlive(60)"
   ]
  },
  {
   "cell_type": "markdown",
   "metadata": {},
   "source": [
    "### Get info from the dataset"
   ]
  },
  {
   "cell_type": "code",
   "execution_count": 149,
   "metadata": {},
   "outputs": [
    {
     "name": "stdout",
     "output_type": "stream",
     "text": [
      "Plate Name:  day7\n"
     ]
    }
   ],
   "source": [
    "datatype = \"plate\" # \"plate\", \"dataset\", \"image\"\n",
    "data_id = 52\n",
    "nucl_channel = 0\n",
    "\n",
    "#validate that data_id matches datatype\n",
    "if datatype == \"plate\":\n",
    "    plate = conn.getObject(\"Plate\", data_id)\n",
    "    print('Plate Name: ', plate.getName())\n",
    "elif datatype == \"dataset\":\n",
    "    dataset = conn.getObject(\"Dataset\", data_id)\n",
    "    print('Dataset Name: ', dataset.getName())\n",
    "elif datatype == \"image\":\n",
    "    image = conn.getObject(\"Image\", data_id)\n",
    "    print('Image Name: ', image.getName())"
   ]
  },
  {
   "cell_type": "markdown",
   "metadata": {},
   "source": [
    "### Run Stardist on the dataset"
   ]
  },
  {
   "cell_type": "markdown",
   "metadata": {},
   "source": [
    "#### Function definitions"
   ]
  },
  {
   "cell_type": "code",
   "execution_count": 167,
   "metadata": {},
   "outputs": [],
   "source": [
    "import logging\n",
    "from typing import List, Tuple, Any, Optional\n",
    "import numpy as np\n",
    "from pathlib import Path\n",
    "import os\n",
    "from tifffile import imsave\n",
    "import ezomero\n",
    "\n",
    "class ProcessImage:\n",
    "    \"\"\"Class to handle image processing and segmentation using StarDist.\"\"\"\n",
    "    \n",
    "    # Class constants\n",
    "    SEGMENTATION_NAMESPACE = \"stardist.segmentation\"\n",
    "    ROI_NAME = \"Stardist Nuclei\"\n",
    "    ROI_DESCRIPTION = \"Nuclei segmentation using Stardist\"\n",
    "    \n",
    "    def __init__(self, image: Any, conn: Any) -> None:\n",
    "        \"\"\"\n",
    "        Initialize ProcessImage instance.\n",
    "        \n",
    "        Args:\n",
    "            image: OMERO image object\n",
    "            conn: OMERO connection object\n",
    "        \n",
    "        Raises:\n",
    "            ValueError: If image or connection is invalid\n",
    "        \"\"\"\n",
    "        if not image or not conn:\n",
    "            raise ValueError(\"Image and connection must be provided\")\n",
    "            \n",
    "        self._image = image\n",
    "        self._conn = conn\n",
    "        self._pixels = image.getPrimaryPixels()\n",
    "        self._size_c = image.getSizeC()\n",
    "        self._size_z = image.getSizeZ()\n",
    "        self._labels = None\n",
    "        self._polygons = None\n",
    "        \n",
    "        # Set up logging\n",
    "        self.logger = logging.getLogger(__name__)\n",
    "        \n",
    "    @property\n",
    "    def labels(self) -> np.ndarray:\n",
    "        \"\"\"Get segmentation labels.\"\"\"\n",
    "        if self._labels is None:\n",
    "            raise ValueError(\"Segmentation has not been performed yet\")\n",
    "        return self._labels\n",
    "        \n",
    "    def segment_nuclei(self, nucl_channel: int) -> None:\n",
    "        \"\"\"\n",
    "        Segment nuclei in the specified channel.\n",
    "        \n",
    "        Args:\n",
    "            nucl_channel: Channel number for nuclear staining\n",
    "            \n",
    "        Raises:\n",
    "            ValueError: If channel number is invalid\n",
    "        \"\"\"\n",
    "        if not 0 <= nucl_channel < self._size_c:\n",
    "            raise ValueError(f\"Invalid channel number: {nucl_channel}\")\n",
    "            \n",
    "        try:\n",
    "            if self._size_z > 1:\n",
    "                self._segment_3d_image(nucl_channel)\n",
    "            else:\n",
    "                self._segment_2d_image(nucl_channel)\n",
    "        except Exception as e:\n",
    "            self.logger.error(f\"Segmentation failed: {str(e)}\")\n",
    "            raise\n",
    "            \n",
    "    def _segment_3d_image(self, channel: int) -> None:\n",
    "        \"\"\"Handle 3D image segmentation.\"\"\"\n",
    "        planes = [self._pixels.getPlane(z, channel, 0) for z in range(self._size_z)]\n",
    "        labels_polygons = [self._segment_slice(plane) for plane in planes]\n",
    "        self._labels, self._polygons = zip(*labels_polygons)\n",
    "        \n",
    "    def _segment_2d_image(self, channel: int) -> None:\n",
    "        \"\"\"Handle 2D image segmentation.\"\"\"\n",
    "        plane = self._pixels.getPlane(0, channel, 0)\n",
    "        labels_polygons = self._segment_slice(plane)\n",
    "        self._labels, self._polygons = zip(*[labels_polygons])\n",
    "        \n",
    "    def _segment_slice(self, plane: np.ndarray) -> Tuple[np.ndarray, Any]:\n",
    "        \"\"\"\n",
    "        Segment a single image plane.\n",
    "        \n",
    "        Args:\n",
    "            plane: 2D numpy array representing image plane\n",
    "            \n",
    "        Returns:\n",
    "            Tuple of (labels, polygons)\n",
    "        \"\"\"\n",
    "        try:\n",
    "            img = normalize(plane)\n",
    "            return model.predict_instances(img)\n",
    "        except Exception as e:\n",
    "            self.logger.error(f\"Slice segmentation failed: {str(e)}\")\n",
    "            raise\n",
    "            \n",
    "    def save_segmentation_to_omero_as_new_image(self, new_img_name: str, desc: str) -> None:\n",
    "        \"\"\"Save segmentation as new OMERO image.\"\"\"\n",
    "        try:\n",
    "            new_img = self._conn.createImageFromNumpySeq(\n",
    "                iter(self.labels), \n",
    "                new_img_name, \n",
    "                self._size_z, \n",
    "                1, \n",
    "                1, \n",
    "                description=desc, \n",
    "                dataset=self._image.getParent()\n",
    "            )\n",
    "            self.logger.info(f'Created new Image:{new_img.getId()} Name:\"{new_img.getName()}\"')\n",
    "        except Exception as e:\n",
    "            self.logger.error(f\"Failed to save new image: {str(e)}\")\n",
    "            raise\n",
    "            \n",
    "    def save_segmentation_to_omero_as_attach(self, tmp_dir: str, desc: str) -> None:\n",
    "        \"\"\"Save segmentation as OMERO attachment.\"\"\"\n",
    "        tmp_path = Path(tmp_dir)\n",
    "        if not tmp_path.exists():\n",
    "            tmp_path.mkdir(parents=True)\n",
    "            \n",
    "        tif_file = tmp_path / f\"{self._image.getName()}_segmentation.tif\"\n",
    "        \n",
    "        try:\n",
    "            imsave(tif_file, self.labels)\n",
    "            file_annotation_id = ezomero.post_file_annotation(\n",
    "                self._conn,\n",
    "                str(tif_file),\n",
    "                ns=self.SEGMENTATION_NAMESPACE,\n",
    "                object_type=\"Image\",\n",
    "                object_id=self._image.getId(),\n",
    "                description=desc\n",
    "            )\n",
    "            self.logger.info(f'File annotation ID: {file_annotation_id}')\n",
    "        finally:\n",
    "            if tif_file.exists():\n",
    "                tif_file.unlink()\n",
    "                \n",
    "    def save_segmentation_to_omero_as_roi(self) -> None:\n",
    "        \"\"\"Save segmentation as OMERO ROIs.\"\"\"\n",
    "        if not self._polygons:\n",
    "            raise ValueError(\"No polygons available - run segmentation first\")\n",
    "            \n",
    "        all_polygons = self._create_polygon_shapes()\n",
    "        \n",
    "        if all_polygons:\n",
    "            try:\n",
    "                roi_id = ezomero.post_roi(\n",
    "                    conn=self._conn,\n",
    "                    image_id=self._image.getId(),\n",
    "                    shapes=all_polygons,\n",
    "                    name=self.ROI_NAME,\n",
    "                    description=self.ROI_DESCRIPTION\n",
    "                )\n",
    "                self.logger.info(f\"Created ROI with ID: {roi_id}\")\n",
    "            except Exception as e:\n",
    "                self.logger.error(f\"Error creating ROI: {str(e)}\")\n",
    "                raise\n",
    "        else:\n",
    "            self.logger.warning(\"No valid polygons were created\")"
   ]
  },
  {
   "cell_type": "code",
   "execution_count": 168,
   "metadata": {},
   "outputs": [],
   "source": [
    "import pyclesperanto_prototype as cle\n",
    "import pandas as pd\n",
    "\n",
    "def measure_intensity(pixels, labels, size_z, size_c):\n",
    "    all_statistics = []\n",
    "    if size_z > 1:\n",
    "        for z, label in zip(range(size_z), labels):\n",
    "            for c in range(size_c):\n",
    "                statistics = cle.statistics_of_labelled_pixels(pixels.getPlane(z, c, 0), label)\n",
    "                statistics = pd.DataFrame(statistics)\n",
    "                statistics['z'] = z\n",
    "                statistics['channel'] = c\n",
    "                all_statistics.append(statistics)\n",
    "    else:\n",
    "        statistics = cle.statistics_of_labelled_pixels(pixels.getPlane(1, 0, 0), labels)\n",
    "        statistics['z'] = 0\n",
    "        all_statistics.append(statistics)\n",
    "    \n",
    "    # Concatenate all statistics into a single DataFrame\n",
    "    all_statistics_df = pd.concat(all_statistics, ignore_index=True)\n",
    "    \n",
    "    return all_statistics_df\n"
   ]
  },
  {
   "cell_type": "markdown",
   "metadata": {},
   "source": [
    "#### code"
   ]
  },
  {
   "cell_type": "code",
   "execution_count": 169,
   "metadata": {},
   "outputs": [
    {
     "name": "stdout",
     "output_type": "stream",
     "text": [
      "Well: 1/72 row: 0 column: 0\n",
      "Field: 0\n",
      "Saved segmentation to: c:\\users\\mwpaul\\appdata\\local\\temp\\tmp8r1pm8b7\\14-6-24_FUCCI_PDLO_Day7_plate1-fixed_007.nd2 [14-6-24_FUCCI_PDLO_Day7_plate1-fixed_007.nd2 (series 01)].tif_segmentation.tif\n"
     ]
    },
    {
     "ename": "KeyboardInterrupt",
     "evalue": "",
     "output_type": "error",
     "traceback": [
      "\u001b[1;31m---------------------------------------------------------------------------\u001b[0m",
      "\u001b[1;31mKeyboardInterrupt\u001b[0m                         Traceback (most recent call last)",
      "Cell \u001b[1;32mIn[169], line 22\u001b[0m\n\u001b[0;32m     20\u001b[0m img \u001b[38;5;241m=\u001b[39m process_image(image, conn)\n\u001b[0;32m     21\u001b[0m img\u001b[38;5;241m.\u001b[39msegment_nuclei(nucl_channel)\n\u001b[1;32m---> 22\u001b[0m \u001b[43mimg\u001b[49m\u001b[38;5;241;43m.\u001b[39;49m\u001b[43msave_segmentation_to_omero_as_attach\u001b[49m\u001b[43m(\u001b[49m\u001b[43mnew_output_directory\u001b[49m\u001b[43m,\u001b[49m\u001b[43mdesc\u001b[49m\u001b[43m)\u001b[49m\n\u001b[0;32m     23\u001b[0m img\u001b[38;5;241m.\u001b[39msave_segmentation_to_omero_as_new_image(new_img_name,desc)\n\u001b[0;32m     24\u001b[0m img\u001b[38;5;241m.\u001b[39msave_segmentation_to_omero_as_roi()\n",
      "Cell \u001b[1;32mIn[164], line 45\u001b[0m, in \u001b[0;36mprocess_image.save_segmentation_to_omero_as_attach\u001b[1;34m(self, tmp_dir, desc)\u001b[0m\n\u001b[0;32m     43\u001b[0m namespace \u001b[38;5;241m=\u001b[39m \u001b[38;5;124m\"\u001b[39m\u001b[38;5;124mstardist.segmentation\u001b[39m\u001b[38;5;124m\"\u001b[39m\n\u001b[0;32m     44\u001b[0m \u001b[38;5;66;03m# Attach the file to the original image\u001b[39;00m\n\u001b[1;32m---> 45\u001b[0m file_annotation_id \u001b[38;5;241m=\u001b[39m \u001b[43mezomero\u001b[49m\u001b[38;5;241;43m.\u001b[39;49m\u001b[43mpost_file_annotation\u001b[49m\u001b[43m(\u001b[49m\u001b[38;5;28;43mself\u001b[39;49m\u001b[38;5;241;43m.\u001b[39;49m\u001b[43mconn\u001b[49m\u001b[43m,\u001b[49m\u001b[43m \u001b[49m\u001b[43mtif_file\u001b[49m\u001b[43m,\u001b[49m\u001b[43m \u001b[49m\u001b[43mns\u001b[49m\u001b[38;5;241;43m=\u001b[39;49m\u001b[43mnamespace\u001b[49m\u001b[43m,\u001b[49m\u001b[43m \u001b[49m\u001b[43mobject_type\u001b[49m\u001b[38;5;241;43m=\u001b[39;49m\u001b[38;5;124;43m\"\u001b[39;49m\u001b[38;5;124;43mImage\u001b[39;49m\u001b[38;5;124;43m\"\u001b[39;49m\u001b[43m,\u001b[49m\u001b[43m \u001b[49m\u001b[43mobject_id\u001b[49m\u001b[38;5;241;43m=\u001b[39;49m\u001b[38;5;28;43mself\u001b[39;49m\u001b[38;5;241;43m.\u001b[39;49m\u001b[43mimage\u001b[49m\u001b[38;5;241;43m.\u001b[39;49m\u001b[43mgetId\u001b[49m\u001b[43m(\u001b[49m\u001b[43m)\u001b[49m\u001b[43m,\u001b[49m\u001b[43m \u001b[49m\u001b[43mdescription\u001b[49m\u001b[38;5;241;43m=\u001b[39;49m\u001b[43mdesc\u001b[49m\u001b[43m)\u001b[49m\n\u001b[0;32m     46\u001b[0m \u001b[38;5;28mprint\u001b[39m(\u001b[38;5;124m'\u001b[39m\u001b[38;5;124mFile annotation ID:\u001b[39m\u001b[38;5;124m'\u001b[39m, file_annotation_id)\n\u001b[0;32m     47\u001b[0m \u001b[38;5;66;03m#remove tif file as it was temporary\u001b[39;00m\n",
      "File \u001b[1;32mc:\\Users\\mwpaul\\.conda\\envs\\omero-guide-cellprofiler\\lib\\site-packages\\ezomero\\_ezomero.py:63\u001b[0m, in \u001b[0;36mdo_across_groups.<locals>.wrapper\u001b[1;34m(*args, **kwargs)\u001b[0m\n\u001b[0;32m     61\u001b[0m     current_group \u001b[38;5;241m=\u001b[39m args[\u001b[38;5;241m0\u001b[39m]\u001b[38;5;241m.\u001b[39mgetGroupFromContext()\u001b[38;5;241m.\u001b[39mgetId()\n\u001b[0;32m     62\u001b[0m     args[\u001b[38;5;241m0\u001b[39m]\u001b[38;5;241m.\u001b[39mSERVICE_OPTS\u001b[38;5;241m.\u001b[39msetOmeroGroup(\u001b[38;5;124m'\u001b[39m\u001b[38;5;124m-1\u001b[39m\u001b[38;5;124m'\u001b[39m)\n\u001b[1;32m---> 63\u001b[0m     res \u001b[38;5;241m=\u001b[39m \u001b[43mf\u001b[49m\u001b[43m(\u001b[49m\u001b[38;5;241;43m*\u001b[39;49m\u001b[43margs\u001b[49m\u001b[43m,\u001b[49m\u001b[43m \u001b[49m\u001b[38;5;241;43m*\u001b[39;49m\u001b[38;5;241;43m*\u001b[39;49m\u001b[43mkwargs\u001b[49m\u001b[43m)\u001b[49m\n\u001b[0;32m     64\u001b[0m     set_group(args[\u001b[38;5;241m0\u001b[39m], current_group)\n\u001b[0;32m     65\u001b[0m \u001b[38;5;28;01melse\u001b[39;00m:\n",
      "File \u001b[1;32mc:\\Users\\mwpaul\\.conda\\envs\\omero-guide-cellprofiler\\lib\\site-packages\\ezomero\\_posts.py:465\u001b[0m, in \u001b[0;36mpost_file_annotation\u001b[1;34m(conn, file_path, ns, object_type, object_id, mimetype, description, across_groups)\u001b[0m\n\u001b[0;32m    463\u001b[0m \u001b[38;5;28;01mif\u001b[39;00m \u001b[38;5;129;01mnot\u001b[39;00m mimetype:\n\u001b[0;32m    464\u001b[0m     mimetype, _ \u001b[38;5;241m=\u001b[39m mimetypes\u001b[38;5;241m.\u001b[39mguess_type(file_path)\n\u001b[1;32m--> 465\u001b[0m file_ann \u001b[38;5;241m=\u001b[39m \u001b[43mconn\u001b[49m\u001b[38;5;241;43m.\u001b[39;49m\u001b[43mcreateFileAnnfromLocalFile\u001b[49m\u001b[43m(\u001b[49m\n\u001b[0;32m    466\u001b[0m \u001b[43m    \u001b[49m\u001b[43mfile_path\u001b[49m\u001b[43m,\u001b[49m\u001b[43m \u001b[49m\u001b[43mmimetype\u001b[49m\u001b[38;5;241;43m=\u001b[39;49m\u001b[43mmimetype\u001b[49m\u001b[43m,\u001b[49m\u001b[43m \u001b[49m\u001b[43mns\u001b[49m\u001b[38;5;241;43m=\u001b[39;49m\u001b[43mns\u001b[49m\u001b[43m,\u001b[49m\u001b[43m \u001b[49m\u001b[43mdesc\u001b[49m\u001b[38;5;241;43m=\u001b[39;49m\u001b[43mdescription\u001b[49m\u001b[43m)\u001b[49m\n\u001b[0;32m    467\u001b[0m \u001b[38;5;28;01mif\u001b[39;00m object_id \u001b[38;5;129;01mis\u001b[39;00m \u001b[38;5;129;01mnot\u001b[39;00m \u001b[38;5;28;01mNone\u001b[39;00m \u001b[38;5;129;01mand\u001b[39;00m object_type \u001b[38;5;129;01mis\u001b[39;00m \u001b[38;5;129;01mnot\u001b[39;00m \u001b[38;5;28;01mNone\u001b[39;00m:\n\u001b[0;32m    468\u001b[0m     obj\u001b[38;5;241m.\u001b[39mlinkAnnotation(file_ann)\n",
      "File \u001b[1;32mc:\\Users\\mwpaul\\.conda\\envs\\omero-guide-cellprofiler\\lib\\site-packages\\omero\\gateway\\__init__.py:4149\u001b[0m, in \u001b[0;36m_BlitzGateway.createFileAnnfromLocalFile\u001b[1;34m(self, localPath, origFilePathAndName, mimetype, ns, desc)\u001b[0m\n\u001b[0;32m   4146\u001b[0m updateService \u001b[38;5;241m=\u001b[39m \u001b[38;5;28mself\u001b[39m\u001b[38;5;241m.\u001b[39mgetUpdateService()\n\u001b[0;32m   4148\u001b[0m \u001b[38;5;66;03m# create and upload original file\u001b[39;00m\n\u001b[1;32m-> 4149\u001b[0m originalFile \u001b[38;5;241m=\u001b[39m \u001b[38;5;28;43mself\u001b[39;49m\u001b[38;5;241;43m.\u001b[39;49m\u001b[43mcreateOriginalFileFromLocalFile\u001b[49m\u001b[43m(\u001b[49m\n\u001b[0;32m   4150\u001b[0m \u001b[43m    \u001b[49m\u001b[43mlocalPath\u001b[49m\u001b[43m,\u001b[49m\u001b[43m \u001b[49m\u001b[43morigFilePathAndName\u001b[49m\u001b[43m,\u001b[49m\u001b[43m \u001b[49m\u001b[43mmimetype\u001b[49m\u001b[43m)\u001b[49m\n\u001b[0;32m   4152\u001b[0m \u001b[38;5;66;03m# create FileAnnotation, set ns & description and return wrapped obj\u001b[39;00m\n\u001b[0;32m   4153\u001b[0m fa \u001b[38;5;241m=\u001b[39m omero\u001b[38;5;241m.\u001b[39mmodel\u001b[38;5;241m.\u001b[39mFileAnnotationI()\n",
      "File \u001b[1;32mc:\\Users\\mwpaul\\.conda\\envs\\omero-guide-cellprofiler\\lib\\site-packages\\omero\\gateway\\__init__.py:4124\u001b[0m, in \u001b[0;36m_BlitzGateway.createOriginalFileFromLocalFile\u001b[1;34m(self, localPath, origFilePathAndName, mimetype, ns)\u001b[0m\n\u001b[0;32m   4122\u001b[0m fileSize \u001b[38;5;241m=\u001b[39m os\u001b[38;5;241m.\u001b[39mpath\u001b[38;5;241m.\u001b[39mgetsize(localPath)\n\u001b[0;32m   4123\u001b[0m \u001b[38;5;28;01mwith\u001b[39;00m \u001b[38;5;28mopen\u001b[39m(localPath, \u001b[38;5;124m'\u001b[39m\u001b[38;5;124mrb\u001b[39m\u001b[38;5;124m'\u001b[39m) \u001b[38;5;28;01mas\u001b[39;00m fileHandle:\n\u001b[1;32m-> 4124\u001b[0m     \u001b[38;5;28;01mreturn\u001b[39;00m \u001b[38;5;28;43mself\u001b[39;49m\u001b[38;5;241;43m.\u001b[39;49m\u001b[43mcreateOriginalFileFromFileObj\u001b[49m\u001b[43m(\u001b[49m\u001b[43mfileHandle\u001b[49m\u001b[43m,\u001b[49m\u001b[43m \u001b[49m\u001b[43mpath\u001b[49m\u001b[43m,\u001b[49m\u001b[43m \u001b[49m\u001b[43mname\u001b[49m\u001b[43m,\u001b[49m\n\u001b[0;32m   4125\u001b[0m \u001b[43m                                              \u001b[49m\u001b[43mfileSize\u001b[49m\u001b[43m,\u001b[49m\u001b[43m \u001b[49m\u001b[43mmimetype\u001b[49m\u001b[43m)\u001b[49m\n",
      "File \u001b[1;32mc:\\Users\\mwpaul\\.conda\\envs\\omero-guide-cellprofiler\\lib\\site-packages\\omero\\gateway\\__init__.py:4090\u001b[0m, in \u001b[0;36m_BlitzGateway.createOriginalFileFromFileObj\u001b[1;34m(self, fo, path, name, fileSize, mimetype, ns)\u001b[0m\n\u001b[0;32m   4088\u001b[0m         fo\u001b[38;5;241m.\u001b[39mseek(pos)\n\u001b[0;32m   4089\u001b[0m         block \u001b[38;5;241m=\u001b[39m fo\u001b[38;5;241m.\u001b[39mread(blockSize)\n\u001b[1;32m-> 4090\u001b[0m         \u001b[43mrawFileStore\u001b[49m\u001b[38;5;241;43m.\u001b[39;49m\u001b[43mwrite\u001b[49m\u001b[43m(\u001b[49m\u001b[43mblock\u001b[49m\u001b[43m,\u001b[49m\u001b[43m \u001b[49m\u001b[43mpos\u001b[49m\u001b[43m,\u001b[49m\u001b[43m \u001b[49m\u001b[43mblockSize\u001b[49m\u001b[43m,\u001b[49m\u001b[43m \u001b[49m\u001b[38;5;28;43mself\u001b[39;49m\u001b[38;5;241;43m.\u001b[39;49m\u001b[43mSERVICE_OPTS\u001b[49m\u001b[43m)\u001b[49m\n\u001b[0;32m   4091\u001b[0m     originalFile \u001b[38;5;241m=\u001b[39m rawFileStore\u001b[38;5;241m.\u001b[39msave(\u001b[38;5;28mself\u001b[39m\u001b[38;5;241m.\u001b[39mSERVICE_OPTS)\n\u001b[0;32m   4092\u001b[0m \u001b[38;5;28;01mfinally\u001b[39;00m:\n",
      "File \u001b[1;32mc:\\Users\\mwpaul\\.conda\\envs\\omero-guide-cellprofiler\\lib\\site-packages\\omero\\gateway\\__init__.py:4859\u001b[0m, in \u001b[0;36mOmeroGatewaySafeCallWrapper.__call__\u001b[1;34m(self, *args, **kwargs)\u001b[0m\n\u001b[0;32m   4857\u001b[0m \u001b[38;5;28;01mdef\u001b[39;00m \u001b[38;5;21m__call__\u001b[39m(\u001b[38;5;28mself\u001b[39m, \u001b[38;5;241m*\u001b[39margs, \u001b[38;5;241m*\u001b[39m\u001b[38;5;241m*\u001b[39mkwargs):\n\u001b[0;32m   4858\u001b[0m     \u001b[38;5;28;01mtry\u001b[39;00m:\n\u001b[1;32m-> 4859\u001b[0m         \u001b[38;5;28;01mreturn\u001b[39;00m \u001b[38;5;28;43mself\u001b[39;49m\u001b[38;5;241;43m.\u001b[39;49m\u001b[43mf\u001b[49m\u001b[43m(\u001b[49m\u001b[38;5;241;43m*\u001b[39;49m\u001b[43margs\u001b[49m\u001b[43m,\u001b[49m\u001b[43m \u001b[49m\u001b[38;5;241;43m*\u001b[39;49m\u001b[38;5;241;43m*\u001b[39;49m\u001b[43mkwargs\u001b[49m\u001b[43m)\u001b[49m\n\u001b[0;32m   4860\u001b[0m     \u001b[38;5;28;01mexcept\u001b[39;00m \u001b[38;5;167;01mException\u001b[39;00m \u001b[38;5;28;01mas\u001b[39;00m e:\n\u001b[0;32m   4861\u001b[0m         \u001b[38;5;28mself\u001b[39m\u001b[38;5;241m.\u001b[39mdebug(e\u001b[38;5;241m.\u001b[39m\u001b[38;5;18m__class__\u001b[39m\u001b[38;5;241m.\u001b[39m\u001b[38;5;18m__name__\u001b[39m, args, kwargs)\n",
      "File \u001b[1;32mc:\\Users\\mwpaul\\.conda\\envs\\omero-guide-cellprofiler\\lib\\site-packages\\omero_api_RawFileStore_ice.py:383\u001b[0m, in \u001b[0;36mRawFileStorePrx.write\u001b[1;34m(self, buf, position, length, _ctx)\u001b[0m\n\u001b[0;32m    382\u001b[0m \u001b[38;5;28;01mdef\u001b[39;00m \u001b[38;5;21mwrite\u001b[39m(\u001b[38;5;28mself\u001b[39m, buf, position, length, _ctx\u001b[38;5;241m=\u001b[39m\u001b[38;5;28;01mNone\u001b[39;00m):\n\u001b[1;32m--> 383\u001b[0m     \u001b[38;5;28;01mreturn\u001b[39;00m \u001b[43m_M_omero\u001b[49m\u001b[38;5;241;43m.\u001b[39;49m\u001b[43mapi\u001b[49m\u001b[38;5;241;43m.\u001b[39;49m\u001b[43mRawFileStore\u001b[49m\u001b[38;5;241;43m.\u001b[39;49m\u001b[43m_op_write\u001b[49m\u001b[38;5;241;43m.\u001b[39;49m\u001b[43minvoke\u001b[49m\u001b[43m(\u001b[49m\u001b[38;5;28;43mself\u001b[39;49m\u001b[43m,\u001b[49m\u001b[43m \u001b[49m\u001b[43m(\u001b[49m\u001b[43m(\u001b[49m\u001b[43mbuf\u001b[49m\u001b[43m,\u001b[49m\u001b[43m \u001b[49m\u001b[43mposition\u001b[49m\u001b[43m,\u001b[49m\u001b[43m \u001b[49m\u001b[43mlength\u001b[49m\u001b[43m)\u001b[49m\u001b[43m,\u001b[49m\u001b[43m \u001b[49m\u001b[43m_ctx\u001b[49m\u001b[43m)\u001b[49m\u001b[43m)\u001b[49m\n",
      "\u001b[1;31mKeyboardInterrupt\u001b[0m: "
     ]
    }
   ],
   "source": [
    "#TODO extend to handle multiple channels,timepoints\n",
    "#TODO measure the intensity of the segmented nuclei in the other channels\n",
    "#TODO attach those results as a table to the original image in OMERO\n",
    "\n",
    "if datatype == \"plate\":\n",
    "    wells = list(plate.listChildren())\n",
    "    # use the first 3 wells only\n",
    "    #wells = wells[0:3] # for testing\n",
    "    well_count = len(wells)\n",
    "    for count, well in enumerate(wells):\n",
    "            print('Well: %s/%s' % (count + 1, well_count), 'row:', well.row, 'column:', well.column)\n",
    "            # Load a single Image per Well TODO load all images for a well if there are multiple\n",
    "            fields = well.countWellSample()\n",
    "            for field in range(fields):\n",
    "                print('Field:', field)\n",
    "                image = well.getImage(field)\n",
    "                #save stack back to OMERO same project only add _nucleisegmentation to the name\n",
    "                new_img_name = image.getName() + \"_nucleisegmentation\"\n",
    "                desc = \"Stardist nuclei segmentation\"\n",
    "                img = process_image(image, conn)\n",
    "                img.segment_nuclei(nucl_channel)\n",
    "                img.save_segmentation_to_omero_as_attach(new_output_directory,desc)\n",
    "                img.save_segmentation_to_omero_as_new_image(new_img_name,desc)\n",
    "                img.save_segmentation_to_omero_as_roi()\n",
    "\n",
    "                all_statistics_df = measure_intensity(img.pixels, img.labels, img.size_z, img.size_c)\n",
    "                tabelid = ezomero.post_table(conn, object_type=\"Image\", object_id=image.getId(), table = all_statistics_df,title=\"Nuclei_measurements\")\n",
    "                print('Created table ID:', tabelid)\n",
    "\n",
    "            \n",
    "elif datatype == \"dataset\":\n",
    "    images = list(dataset.listChildren())\n",
    "    # use the first 3 images only\n",
    "    images = images[0:3]\n",
    "    image_count = len(images)\n",
    "    for count in range(image_count):\n",
    "        image = well.getImage(count)\n",
    "        #save stack back to OMERO same project only add _nucleisegmentation to the name\n",
    "        new_img_name = image.getName() + \"_nucleisegmentation\"\n",
    "        desc = \"Stardist nuclei segmentation\"\n",
    "        img = process_image(image, conn)\n",
    "        img.segment_nuclei(nucl_channel)\n",
    "        img.save_segmentation_to_omero_as_attach(new_output_directory,desc)\n",
    "        img.save_segmentation_to_omero_as_new_image(desc)\n",
    "        img.save_segmentation_to_omero_as_roi()\n",
    "\n",
    "        all_statistics_df = measure_intensity(img.pixels, img.labels, img.size_z, img.size_c)\n",
    "        tabelid = ezomero.post_table(conn, object_type=\"Image\", object_id=image.getId(), table = all_statistics_df,title=\"Nuclei_measurements\")\n",
    "        print('Created table ID:', tabelid)"
   ]
  },
  {
   "cell_type": "code",
   "execution_count": null,
   "metadata": {},
   "outputs": [],
   "source": []
  }
 ],
 "metadata": {
  "kernelspec": {
   "display_name": "omero-guide-cellprofiler",
   "language": "python",
   "name": "python3"
  },
  "language_info": {
   "codemirror_mode": {
    "name": "ipython",
    "version": 3
   },
   "file_extension": ".py",
   "mimetype": "text/x-python",
   "name": "python",
   "nbconvert_exporter": "python",
   "pygments_lexer": "ipython3",
   "version": "3.8.18"
  }
 },
 "nbformat": 4,
 "nbformat_minor": 2
}
